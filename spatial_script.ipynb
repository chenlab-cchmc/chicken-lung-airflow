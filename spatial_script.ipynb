{
 "cells": [
  {
   "cell_type": "markdown",
   "metadata": {},
   "source": [
    "## Read H5AD Anndata"
   ]
  },
  {
   "cell_type": "code",
   "execution_count": null,
   "metadata": {},
   "outputs": [],
   "source": [
    "import scanpy as sc\n",
    "import pandas as pd\n",
    "import matplotlib.pyplot as plt\n",
    "import numpy as np"
   ]
  },
  {
   "cell_type": "code",
   "execution_count": null,
   "metadata": {
    "scrolled": true
   },
   "outputs": [],
   "source": [
    "adata=sc.read_h5ad('./A02596F2.adjusted.cell.cluster.h5ad')\n",
    "adata"
   ]
  },
  {
   "cell_type": "code",
   "execution_count": null,
   "metadata": {},
   "outputs": [],
   "source": [
    "sc.set_figure_params(dpi=300)\n",
    "sc.pl.umap(adata,color=[\"leiden\"])"
   ]
  },
  {
   "cell_type": "code",
   "execution_count": null,
   "metadata": {},
   "outputs": [],
   "source": [
    "at1_gene=[\"AGRN\", \"SYNE2\", \"B3GAT2\", \"BASP1\", \"TMEM64\", \"CCDC80\", \"CLDN18\", \n",
    "\"CTSV\", \"DAAM1\", \"MARCKS\", \"PPFIBP1\", \"EMP1\", \"FMO3\", \"GREM2\", \n",
    "\"SIPA1L2\", \"LGALS3\", \"ND3\", \"PABPC1\", \"PHLDB2\", \"PNRC1\"]\n",
    "\n",
    "at2_gene=[\"ANPEP\", \"PDIA4\", \"CYP51A1\", \"EXFABP\", \"FASN\", \"FKBP11\", \"GMNN\", \n",
    "\"SPINK5\", \"SPINK7\", \"HSPA5\", \"LAMP3\", \"LPCAT1\", \"LYG2\", \"MANF\", \n",
    "\"METRNL\", \"MSMO1\", \"TMEM243\", \"PDIA2\", \"SERPINF1\", \"SOD3\"]\n",
    "\n",
    "krt_gene=[\"ANXA1\", \"ANXA2\", \"CALM2\", \"CLDN1\", \"CLIC3\", \"TPPP3\", \"IFI27L2\", \n",
    "\"KRT14\", \"KRT24\", \"KRT7\", \"MMP13\", \"NET1\", \"NT5C3A\", \"S100A10\", \n",
    "\"UPK1B\", \"SAMHD1\", \"SFTPA1\", \"SFTPA2\", \"TALDO1\", \"TMSB15B\"]"
   ]
  },
  {
   "cell_type": "code",
   "execution_count": null,
   "metadata": {},
   "outputs": [],
   "source": [
    "endo_gene=[\"ACE\", \"ADGRF5\", \"PTPRB\", \"GPR182\", \"ZNF366\", \"SOX18\", \"ARHGEF9\", \n",
    "\"ADGRL4\", \"ADCY8\", \"VWF\", \"CDH5\", \"CA4\", \"EMCN\", \"PODXL\", \"APLNR\", \n",
    "\"SHE\", \"RASGRP3\", \"EDNRB\", \"MC5R\", \"APOLD1\"]\n",
    "fibro_gene=[\"TENM4\", \"ENSGALG00010009403\", \"LOX\", \"ENSGALG00010019604\", \n",
    "\"COL1A2\", \"EYA4\", \"PDGFRA\", \"ENSGALG00010026410\", \"VEGFD\", \"COL1A1\", \n",
    "\"SLC15A2\", \"OGN\", \"APOA1\", \"FREM1\", \"LUM\", \"FBLN1\", \"MGP\", \"MMP2\", \n",
    "\"ZNF385D\", \"COL3A1\"]\n",
    "peri_gene=[\"CACNA1C\", \"TRPC6\", \"SPRY3\", \"ADIPOQ\", \"CSPG4\", \"EGFLAM\", \"SPERT\", \n",
    "\"CNTN4\", \"COLEC10\", \"MAP2\", \"KCNK4\", \"ENSGALG00010011284\", \"GUCY1A1\", \n",
    "\"PDE3A\", \"GFRA1\", \"EDNRA\", \"GUCY1A2\", \"SPOCK1\", \"ADAMTS12\", \"DACH2\"]\n",
    "myo_gene=[\"SYNPO2\", \"LMOD1\", \"CRISPLD2\", \"TPM2\", \"SMTN\", \"ACTG2\", \"ADIPOQ\", \n",
    "\"MYH11\", \"CDH13\", \"DES\", \"ACTA2\", \"CACNA1C\", \"ARMC9\", \"RBPMS2\", \n",
    "\"CLEC3B\", \"MUSTN1\", \"CDH4\", \"MYLK\", \"HSPB1\", \"PDLIM7\"]\n",
    "mega_gene=[\"ADCY1\", \"HPSE\", \"GP9\", \"RGS18\", \"CSTA\", \"HTR2A\", \"F2RL3\", \n",
    "\"TREMB1\", \"ENSGALG00010027708\", \"DDC\", \"IFI6\", \"CD200R1A\", \"SERPINB11\", \n",
    "\"ENSGALG00010014318\", \"ENSGALG00010019947\", \"ENSGALG00010027718\", \n",
    "\"ENSGALG00010024177\", \"ENSGALG00010011674\", \"TRPC3\", \"TBXAS1\"]\n",
    "blood_gene=[\"HBBA\", \"HBA1\", \"RHAG\", \"HBAD\", \"HBE1\", \"CA13\", \"ENSGALG00010001729\", \n",
    "\"SUSD3\", \"RFESD\", \"WBP4\", \"CA2\", \"H1F0\", \"IFI27L2\", \"TFRC\", \"RBM38\", \n",
    "\"BPGM\", \"SLC43A3\", \"ARRDC2\", \"SOX6\", \"ADAL\"]\n",
    "immune_gene=[\"RNASE6\", \"C1QB\", \"MPEG1\", \"AVD\", \"SPI1\", \"RSFR\", \"CD74\", \"C1QC\", \n",
    "\"CSF1R\", \"ENSGALG00010010874\", \"RGS1\", \"LAPTM5\", \"BLB2\", \"ENSGALG00010004852\", \n",
    "\"BLB1\", \"LY86\", \"ARHGAP15\", \"ENSGALG00010012436\", \"LCP1\", \"ENSGALG00010029417\"]\n"
   ]
  },
  {
   "cell_type": "code",
   "execution_count": null,
   "metadata": {
    "scrolled": false
   },
   "outputs": [],
   "source": [
    "sc.tl.score_genes(adata_adj, krt_gene, ctrl_size=25, n_bins=25, score_name='score_krt')\n",
    "sc.tl.score_genes(adata_adj, at1_gene, ctrl_size=25, n_bins=25, score_name='score_at1')\n",
    "sc.tl.score_genes(adata_adj, at2_gene, ctrl_size=25, n_bins=25, score_name='score_at2')"
   ]
  },
  {
   "cell_type": "code",
   "execution_count": null,
   "metadata": {},
   "outputs": [],
   "source": [
    "sc.tl.score_genes(adata_adj, endo_gene, ctrl_size=25, n_bins=25, score_name='score_endo')\n",
    "sc.tl.score_genes(adata_adj, fibro_gene, ctrl_size=25, n_bins=25, score_name='score_fibro')\n",
    "sc.tl.score_genes(adata_adj, peri_gene, ctrl_size=25, n_bins=25, score_name='score_peri')\n",
    "sc.tl.score_genes(adata_adj, myo_gene, ctrl_size=25, n_bins=25, score_name='score_myo')\n",
    "sc.tl.score_genes(adata_adj, blood_gene, ctrl_size=25, n_bins=25, score_name='score_blood')\n",
    "sc.tl.score_genes(adata_adj, mega_gene, ctrl_size=25, n_bins=25, score_name='score_mega')\n",
    "sc.tl.score_genes(adata_adj, immune_gene, ctrl_size=25, n_bins=25, score_name='score_immune')"
   ]
  },
  {
   "cell_type": "code",
   "execution_count": null,
   "metadata": {},
   "outputs": [],
   "source": [
    "import numpy as np\n",
    "# adata_adj.obs['dapi'] = np.ones(len(adata_adj.obs), dtype=int)\n",
    "adata_adj.obs['score_dapi'] = np.log(adata_adj.obs['total_counts'])"
   ]
  },
  {
   "cell_type": "code",
   "execution_count": null,
   "metadata": {},
   "outputs": [],
   "source": [
    "with open(\"krt.txt\", \"w\") as output: \n",
    "    output.write(str(krt_gene))"
   ]
  },
  {
   "cell_type": "code",
   "execution_count": null,
   "metadata": {},
   "outputs": [],
   "source": [
    "with open(\"at1.txt\", \"w\") as output:\n",
    "    output.write(str(at1_gene))"
   ]
  },
  {
   "cell_type": "code",
   "execution_count": null,
   "metadata": {},
   "outputs": [],
   "source": [
    "with open(\"at2.txt\", \"w\") as output:\n",
    "    output.write(str(at2_gene))"
   ]
  },
  {
   "cell_type": "code",
   "execution_count": null,
   "metadata": {},
   "outputs": [],
   "source": [
    "with open(\"endo.txt\", \"w\") as output:\n",
    "    output.write(str(endo_gene))"
   ]
  },
  {
   "cell_type": "code",
   "execution_count": null,
   "metadata": {},
   "outputs": [],
   "source": [
    "with open(\"fibro.txt\", \"w\") as output:\n",
    "    output.write(str(fibro_gene))"
   ]
  },
  {
   "cell_type": "code",
   "execution_count": null,
   "metadata": {},
   "outputs": [],
   "source": [
    "with open(\"peri.txt\", \"w\") as output:\n",
    "    output.write(str(peri_gene))"
   ]
  },
  {
   "cell_type": "code",
   "execution_count": null,
   "metadata": {},
   "outputs": [],
   "source": [
    "with open(\"mega.txt\", \"w\") as output:\n",
    "    output.write(str(mega_gene))"
   ]
  },
  {
   "cell_type": "code",
   "execution_count": null,
   "metadata": {},
   "outputs": [],
   "source": [
    "with open(\"immune.txt\", \"w\") as output:\n",
    "    output.write(str(immune_gene))"
   ]
  },
  {
   "cell_type": "code",
   "execution_count": null,
   "metadata": {},
   "outputs": [],
   "source": [
    "with open(\"myo.txt\", \"w\") as output:\n",
    "    output.write(str(myo_gene))"
   ]
  },
  {
   "cell_type": "code",
   "execution_count": null,
   "metadata": {},
   "outputs": [],
   "source": [
    "with open(\"blood.txt\", \"w\") as output:\n",
    "    output.write(str(blood_gene))"
   ]
  },
  {
   "cell_type": "code",
   "execution_count": null,
   "metadata": {
    "scrolled": true
   },
   "outputs": [],
   "source": [
    "leiden_colors=adata_adj.uns['leiden_colors']\n",
    "with open(\"leiden.txt\", \"w\") as output:\n",
    "    output.write(str(leiden_colors))"
   ]
  },
  {
   "cell_type": "code",
   "execution_count": null,
   "metadata": {
    "scrolled": true
   },
   "outputs": [],
   "source": [
    "plt.rcParams[\"figure.figsize\"] = (4, 4)\n",
    "sc.pl.embedding(adata_adj, basis=\"spatial\", color=[\"score_endo\",\"score_fibro\",\"score_myo\",\"score_peri\",\"score_blood\",\"score_immune\",\"score_misc\"],alpha=0.5,size=2,cmap='magma',vmin=0)"
   ]
  },
  {
   "cell_type": "code",
   "execution_count": null,
   "metadata": {
    "scrolled": true
   },
   "outputs": [],
   "source": [
    "plt.rcParams[\"figure.figsize\"] = (4, 4)\n",
    "plt.rcParams['savefig.dpi'] = 300\n",
    "sc.set_figure_params(dpi=300,dpi_save=300,frameon=False,color_map=None, format='png', transparent=True)\n",
    "sc.pl.umap(adata_adj, color=\"leiden\",size=2)"
   ]
  },
  {
   "cell_type": "code",
   "execution_count": 34,
   "metadata": {},
   "outputs": [],
   "source": [
    "import matplotlib.pyplot as plt\n",
    "import matplotlib.colors as mcolors\n",
    "import numpy as np\n",
    "\n",
    "def create_cyan_colormap(name='Cyans'):\n",
    "    # Define the color range\n",
    "    colors = [(224/255, 255/255, 255/255),  # Very light cyan\n",
    "              (0/255, 255/255, 255/255)]    # Pure cyan\n",
    "    \n",
    "    # Create the colormap\n",
    "    n_bins = 256  # Number of discrete colors in the colormap\n",
    "    cmap = mcolors.LinearSegmentedColormap.from_list(name, colors, N=n_bins)\n",
    "    \n",
    "    return cmap\n",
    "\n",
    "# Create the custom cyan colormap\n",
    "cyan_cmap = create_cyan_colormap()"
   ]
  },
  {
   "cell_type": "code",
   "execution_count": 35,
   "metadata": {},
   "outputs": [],
   "source": [
    "import matplotlib.pyplot as plt\n",
    "import matplotlib.colors as mcolors\n",
    "import numpy as np\n",
    "\n",
    "def create_magenta_colormap(name='Magentas'):\n",
    "    # Define the color range\n",
    "    colors = [(255/255, 224/255, 255/255),  # Very light magenta\n",
    "              (255/255, 0/255, 255/255)]    # Pure magenta\n",
    "    \n",
    "    # Create the colormap\n",
    "    n_bins = 256  # Number of discrete colors in the colormap\n",
    "    cmap = mcolors.LinearSegmentedColormap.from_list(name, colors, N=n_bins)\n",
    "    \n",
    "    return cmap\n",
    "\n",
    "# Create the custom magenta colormap\n",
    "magenta_cmap = create_magenta_colormap()"
   ]
  },
  {
   "cell_type": "code",
   "execution_count": null,
   "metadata": {
    "scrolled": true
   },
   "outputs": [],
   "source": [
    "sc.pl.embedding(adata_adj, basis=\"spatial\", color=[\"score_at1\",\"score_at2\",\"score_krt\"],size=2,cmap='Greys',vmin=0,vmax=1,frameon=False)"
   ]
  },
  {
   "cell_type": "code",
   "execution_count": null,
   "metadata": {
    "scrolled": true
   },
   "outputs": [],
   "source": [
    "# Define matplotlib Axes\n",
    "# Number of Axes & plot size\n",
    "ncols = 3\n",
    "nrows = 1\n",
    "figsize = 4\n",
    "wspace = 0.2\n",
    "fig, axs = plt.subplots(\n",
    "    nrows=nrows,\n",
    "    ncols=ncols,\n",
    "    figsize=(ncols * figsize + figsize * wspace * (ncols - 1), nrows * figsize),\n",
    ")\n",
    "plt.subplots_adjust(wspace=wspace)\n",
    "# This produces two Axes objects in a single Figure\n",
    "print(\"axes:\", axs)\n",
    "\n",
    "# We need to set show=False so that the Figure is not displayed before we\n",
    "# finished plotting on all Axes and making all plot adjustments\n",
    "sc.pl.umap(adata_adj, color= \"score_at1\",ax=axs[0],size=2,cmap= 'Reds',vmin=0,vmax=1,frameon=False,show=False)\n",
    "sc.pl.umap(adata_adj, color= \"score_at2\", ax=axs[1],size=2,cmap= cyan_cmap,vmin=0,vmax=1,frameon=False,show=False)\n",
    "sc.pl.umap(adata_adj, color= \"score_krt\",ax=axs[2],size=2,cmap= magenta_cmap,vmin=0,vmax=4,frameon=False,show=False)"
   ]
  },
  {
   "cell_type": "code",
   "execution_count": null,
   "metadata": {},
   "outputs": [],
   "source": [
    "# separate umap plot\n",
    "sc.pl.umap(adata_adj, color=\"score_at1\",cmap = 'Reds',size=2,vmin=0,vmax=1,frameon=False)\n",
    "sc.pl.umap(adata_adj, color=\"score_at2\",cmap = cyan_cmap,size=2,vmin=0,vmax=1,frameon=False)\n",
    "sc.pl.umap(adata_adj, color=\"score_krt\",cmap = magenta_cmap,size=2,vmin=0,vmax=4,frameon=False)"
   ]
  },
  {
   "cell_type": "code",
   "execution_count": null,
   "metadata": {},
   "outputs": [],
   "source": [
    "import matplotlib.pyplot as plt\n",
    "import matplotlib.colors as mcolors\n",
    "import numpy as np\n",
    "\n",
    "def create_salmon_colormap(name='Salmon'):\n",
    "    # Define the color range for Salmon\n",
    "    colors = [(255/255, 228/255, 225/255),  # Very light salmon\n",
    "              (250/255, 128/255, 114/255)]  # Pure salmon\n",
    "    \n",
    "    # Create the colormap\n",
    "    n_bins = 256  # Number of discrete colors in the colormap\n",
    "    cmap = mcolors.LinearSegmentedColormap.from_list(name, colors, N=n_bins)\n",
    "    \n",
    "    return cmap\n",
    "\n",
    "# Create the custom salmon colormap\n",
    "salmon_cmap = create_salmon_colormap()"
   ]
  },
  {
   "cell_type": "code",
   "execution_count": null,
   "metadata": {},
   "outputs": [],
   "source": [
    "def create_gold_colormap(name='Gold'):\n",
    "    # Define the color range for Gold\n",
    "    colors = [(255/255, 250/255, 205/255),  # Very light gold\n",
    "              (255/255, 215/255, 0/255)]    # Pure gold\n",
    "    \n",
    "    # Create the colormap\n",
    "    n_bins = 256  # Number of discrete colors in the colormap\n",
    "    cmap = mcolors.LinearSegmentedColormap.from_list(name, colors, N=n_bins)\n",
    "    \n",
    "    return cmap\n",
    "\n",
    "# Create the custom gold colormap\n",
    "gold_cmap = create_gold_colormap()"
   ]
  },
  {
   "cell_type": "code",
   "execution_count": null,
   "metadata": {},
   "outputs": [],
   "source": [
    "sc.set_figure_params(dpi=300,dpi_save=300,frameon=False,color_map=None, format='png', transparent=True)"
   ]
  },
  {
   "cell_type": "code",
   "execution_count": null,
   "metadata": {
    "scrolled": true
   },
   "outputs": [],
   "source": [
    "sc.pl.embedding(adata_adj, basis=\"spatial\", color=[\"score_fibro\",\"score_myo\",\"score_blood\"],size=2,cmap='Greys',vmin=0,vmax=6,frameon=False)"
   ]
  },
  {
   "cell_type": "code",
   "execution_count": null,
   "metadata": {
    "scrolled": false
   },
   "outputs": [],
   "source": [
    "sc.pl.embedding(adata_adj, basis=\"spatial\", color=[\"score_endo\",\"score_peri\",\"score_dapi\"],size=2,cmap='Greys',vmin=0,vmax=1,frameon=False)"
   ]
  },
  {
   "cell_type": "code",
   "execution_count": null,
   "metadata": {
    "scrolled": false
   },
   "outputs": [],
   "source": [
    "sc.pl.embedding(adata_adj, basis=\"spatial\", color=[\"score_immune\",\"score_mega\",\"score_dapi\"],size=2,cmap='Greys',vmin=0,vmax=0.5,frameon=False)"
   ]
  },
  {
   "cell_type": "code",
   "execution_count": null,
   "metadata": {
    "scrolled": true
   },
   "outputs": [],
   "source": [
    "# Define matplotlib Axes\n",
    "# Number of Axes & plot size\n",
    "ncols = 3\n",
    "nrows = 1\n",
    "figsize = 4\n",
    "wspace = 0.2\n",
    "fig, axs = plt.subplots(\n",
    "    nrows=nrows,\n",
    "    ncols=ncols,\n",
    "    figsize=(ncols * figsize + figsize * wspace * (ncols - 1), nrows * figsize),\n",
    ")\n",
    "plt.subplots_adjust(wspace=wspace)\n",
    "# This produces two Axes objects in a single Figure\n",
    "print(\"axes:\", axs)\n",
    "\n",
    "# We need to set show=False so that the Figure is not displayed before we\n",
    "# finished plotting on all Axes and making all plot adjustments\n",
    "sc.pl.umap(adata_adj, color= \"score_fibro\",ax=axs[0],size=2,cmap= 'Oranges',vmin=0,vmax=6,frameon=False,show=False)\n",
    "sc.pl.umap(adata_adj, color= \"score_myo\", ax=axs[1],size=2,cmap= 'Purples',vmin=0,vmax=6,frameon=False,show=False)\n",
    "sc.pl.umap(adata_adj, color= \"score_blood\",ax=axs[2],size=2,cmap= 'Greys',vmin=0,vmax=6,frameon=False,show=False)"
   ]
  },
  {
   "cell_type": "code",
   "execution_count": null,
   "metadata": {},
   "outputs": [],
   "source": [
    "# Define matplotlib Axes\n",
    "# Number of Axes & plot size\n",
    "ncols = 3\n",
    "nrows = 1\n",
    "figsize = 4\n",
    "wspace = 0.2\n",
    "fig, axs = plt.subplots(\n",
    "    nrows=nrows,\n",
    "    ncols=ncols,\n",
    "    figsize=(ncols * figsize + figsize * wspace * (ncols - 1), nrows * figsize),\n",
    ")\n",
    "plt.subplots_adjust(wspace=wspace)\n",
    "# This produces two Axes objects in a single Figure\n",
    "print(\"axes:\", axs)\n",
    "\n",
    "# We need to set show=False so that the Figure is not displayed before we\n",
    "# finished plotting on all Axes and making all plot adjustments\n",
    "sc.pl.umap(adata_adj, color= \"score_immune\",ax=axs[0],size=2,cmap = salmon_cmap,vmin=0,vmax=0.5,frameon=False,show=False)\n",
    "sc.pl.umap(adata_adj, color= \"score_mega\", ax=axs[1],size=2,cmap= gold_cmap,vmin=0,vmax=0.5,frameon=False,show=False)\n",
    "sc.pl.umap(adata_adj, color= \"score_blood\",ax=axs[2],size=2,cmap= 'viridis',vmin=0,vmax=0.5,frameon=False,show=False)"
   ]
  },
  {
   "cell_type": "code",
   "execution_count": null,
   "metadata": {},
   "outputs": [],
   "source": [
    "# Define matplotlib Axes\n",
    "# Number of Axes & plot size\n",
    "ncols = 3\n",
    "nrows = 1\n",
    "figsize = 4\n",
    "wspace = 0.2\n",
    "fig, axs = plt.subplots(\n",
    "    nrows=nrows,\n",
    "    ncols=ncols,\n",
    "    figsize=(ncols * figsize + figsize * wspace * (ncols - 1), nrows * figsize),\n",
    ")\n",
    "plt.subplots_adjust(wspace=wspace)\n",
    "# This produces two Axes objects in a single Figure\n",
    "print(\"axes:\", axs)\n",
    "\n",
    "# We need to set show=False so that the Figure is not displayed before we\n",
    "# finished plotting on all Axes and making all plot adjustments\n",
    "sc.pl.umap(adata_adj, color= \"score_endo\",ax=axs[0],size=2,cmap= 'Greens',vmin=0,vmax=1,frameon=False,show=False)\n",
    "sc.pl.umap(adata_adj, color= \"score_peri\", ax=axs[1],size=2,cmap= 'Blues',vmin=0,vmax=1,frameon=False,show=False)\n",
    "sc.pl.umap(adata_adj, color= \"score_dapi\",ax=axs[2],size=2,cmap= 'magma',vmin=0,vmax=1,frameon=False,show=False)"
   ]
  },
  {
   "cell_type": "code",
   "execution_count": null,
   "metadata": {},
   "outputs": [],
   "source": [
    "sc.set_figure_params(dpi=300)\n",
    "sc.pl.embedding(adata_adj, basis=\"spatial\", color=[\"leiden\"], groups=\"17\",palette=['#809693','Grey'],show=False,vmin=0,vmax=2,alpha=0.5,size=2)\n",
    "sc.pl.embedding(adata_adj, basis=\"spatial\", color=[\"leiden\"], groups=\"18\",palette=['Grey','#6a3a4c'],show=False,vmin=0,vmax=2,alpha=0.5,size=2)\n",
    "sc.pl.embedding(adata_adj, basis=\"spatial\", color=[\"leiden\"], groups=\"19\",palette=['#1b4400','Grey'],show=False,vmin=0,vmax=2,alpha=0.5,size=2)"
   ]
  },
  {
   "cell_type": "code",
   "execution_count": null,
   "metadata": {},
   "outputs": [],
   "source": [
    "sc.set_figure_params(dpi=300)\n",
    "sc.pl.umap(adata_adj, color=[\"leiden\"], groups=[\"17\",\"18\",\"19\"], palette=['#809693', '#6a3a4c', '#1b4400','Grey'])"
   ]
  }
 ],
 "metadata": {
  "hide_input": false,
  "kernelspec": {
   "display_name": "Python 3 (ipykernel)",
   "language": "python",
   "name": "python3"
  },
  "language_info": {
   "codemirror_mode": {
    "name": "ipython",
    "version": 3
   },
   "file_extension": ".py",
   "mimetype": "text/x-python",
   "name": "python",
   "nbconvert_exporter": "python",
   "pygments_lexer": "ipython3",
   "version": "3.11.5"
  },
  "toc": {
   "base_numbering": 1,
   "nav_menu": {},
   "number_sections": false,
   "sideBar": true,
   "skip_h1_title": false,
   "title_cell": "Table of Contents",
   "title_sidebar": "Contents",
   "toc_cell": false,
   "toc_position": {
    "height": "calc(100% - 180px)",
    "left": "10px",
    "top": "150px",
    "width": "255.972px"
   },
   "toc_section_display": true,
   "toc_window_display": true
  },
  "varInspector": {
   "cols": {
    "lenName": 16,
    "lenType": 16,
    "lenVar": 40
   },
   "kernels_config": {
    "python": {
     "delete_cmd_postfix": "",
     "delete_cmd_prefix": "del ",
     "library": "var_list.py",
     "varRefreshCmd": "print(var_dic_list())"
    },
    "r": {
     "delete_cmd_postfix": ") ",
     "delete_cmd_prefix": "rm(",
     "library": "var_list.r",
     "varRefreshCmd": "cat(var_dic_list()) "
    }
   },
   "types_to_exclude": [
    "module",
    "function",
    "builtin_function_or_method",
    "instance",
    "_Feature"
   ],
   "window_display": false
  }
 },
 "nbformat": 4,
 "nbformat_minor": 4
}
